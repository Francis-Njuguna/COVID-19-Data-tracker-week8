{
 "cells": [
  {
   "cell_type": "markdown",
   "id": "d1e59b3a",
   "metadata": {},
   "source": [
    "### 🧪 COVID-19 Global Data Tracker"
   ]
  },
  {
   "cell_type": "markdown",
   "id": "956286b6",
   "metadata": {},
   "source": [
    "## Step 1: Data Collection\n",
    "\n",
    "In this step, we collect COVID-19 data from a reliable source. We will use the **Our World in Data** (OWID) dataset which provides global data in CSV format.\n",
    "\n",
    "You can download the dataset here:  \n",
    "🔗 https://covid.ourworldindata.org/data/owid-covid-data.csv\n",
    "\n",
    "Save the file as `owid-covid-data.csv` in your working directory."
   ]
  },
  {
   "cell_type": "code",
   "execution_count": null,
   "id": "69773201",
   "metadata": {},
   "outputs": [
    {
     "ename": "",
     "evalue": "",
     "output_type": "error",
     "traceback": [
      "\u001b[1;31mRunning cells with '.venv (Python 3.11.9)' requires the ipykernel package.\n",
      "\u001b[1;31mInstall 'ipykernel' into the Python environment. \n",
      "\u001b[1;31mCommand: '\"c:/Users/A d m i n/Documents/APLLIED COMP SCI SHIT/Most-Common/Power learn project/Python/.venv/Scripts/python.exe\" -m pip install ipykernel -U --force-reinstall'"
     ]
    }
   ],
   "source": [
    "import pandas as pd\n",
    "\n",
    "# Load the dataset\n",
    "df = pd.read_csv('owid-covid-data.csv')\n",
    "\n",
    "# Preview the data\n",
    "df.head()"
   ]
  },
  {
   "cell_type": "markdown",
   "id": "e7384fda",
   "metadata": {},
   "source": [
    "## Step 2: Data Loading & Exploration\n",
    "\n",
    "We will load the dataset using pandas, explore its structure, check for missing values, and understand the key columns available for analysis."
   ]
  },
  {
   "cell_type": "code",
   "execution_count": null,
   "id": "9454f5af",
   "metadata": {},
   "outputs": [],
   "source": [
    "# Display column names\n",
    "print(df.columns)\n",
    "\n",
    "# Check shape of the dataset\n",
    "print(\"Shape of dataset:\", df.shape)\n",
    "\n",
    "# Check for missing values\n",
    "df.isnull().sum()\n",
    "\n",
    "# Preview sample data\n",
    "df.head()"
   ]
  },
  {
   "cell_type": "markdown",
   "id": "d02cb741",
   "metadata": {},
   "source": [
    "## Step 3: Data Cleaning\n",
    "\n",
    "Before analyzing the data, we need to clean it:\n",
    "- Convert the `date` column to datetime.\n",
    "- Filter countries of interest (e.g., Kenya, India, USA).\n",
    "- Drop rows with missing critical values like `date` and `total_cases`.\n",
    "- Fill missing values using forward fill."
   ]
  },
  {
   "cell_type": "code",
   "execution_count": null,
   "id": "d3135dcd",
   "metadata": {},
   "outputs": [],
   "source": [
    "df['date'] = pd.to_datetime(df['date'])\n",
    "\n",
    "countries = ['Kenya', 'India', 'United States']\n",
    "df_filtered = df[df['location'].isin(countries)]\n",
    "\n",
    "df_filtered = df_filtered.dropna(subset=['date', 'total_cases'])\n",
    "df_filtered = df_filtered.fillna(method='ffill')\n",
    "\n",
    "df_filtered.head()"
   ]
  },
  {
   "cell_type": "markdown",
   "id": "45d4f4fc",
   "metadata": {},
   "source": [
    "## Step 4: Exploratory Data Analysis (EDA)\n",
    "\n",
    "Now we analyze trends over time:\n",
    "- Total COVID-19 cases\n",
    "- New daily cases\n",
    "- Death rates\n",
    "\n",
    "We use line plots to compare trends across selected countries."
   ]
  },
  {
   "cell_type": "code",
   "execution_count": null,
   "id": "4dcdb214",
   "metadata": {},
   "outputs": [],
   "source": [
    "import matplotlib.pyplot as plt\n",
    "import seaborn as sns\n",
    "\n",
    "# Total cases over time\n",
    "plt.figure(figsize=(12,6))\n",
    "for country in countries:\n",
    "    data = df_filtered[df_filtered['location'] == country]\n",
    "    plt.plot(data['date'], data['total_cases'], label=country)\n",
    "plt.title('Total COVID-19 Cases Over Time')\n",
    "plt.xlabel('Date')\n",
    "plt.ylabel('Total Cases')\n",
    "plt.legend()\n",
    "plt.grid()\n",
    "plt.show()"
   ]
  },
  {
   "cell_type": "code",
   "execution_count": null,
   "id": "220b785e",
   "metadata": {},
   "outputs": [],
   "source": [
    "# Daily new cases\n",
    "plt.figure(figsize=(12,6))\n",
    "for country in countries:\n",
    "    data = df_filtered[df_filtered['location'] == country]\n",
    "    plt.plot(data['date'], data['new_cases'], label=country)\n",
    "plt.title('Daily New COVID-19 Cases')\n",
    "plt.xlabel('Date')\n",
    "plt.ylabel('New Cases')\n",
    "plt.legend()\n",
    "plt.grid()\n",
    "plt.show()"
   ]
  },
  {
   "cell_type": "code",
   "execution_count": null,
   "id": "916de4cd",
   "metadata": {},
   "outputs": [],
   "source": [
    "# Death rate = total_deaths / total_cases\n",
    "df_filtered['death_rate'] = df_filtered['total_deaths'] / df_filtered['total_cases']\n",
    "\n",
    "plt.figure(figsize=(12,6))\n",
    "for country in countries:\n",
    "    data = df_filtered[df_filtered['location'] == country]\n",
    "    plt.plot(data['date'], data['death_rate'], label=country)\n",
    "plt.title('COVID-19 Death Rate Over Time')\n",
    "plt.xlabel('Date')\n",
    "plt.ylabel('Death Rate')\n",
    "plt.legend()\n",
    "plt.grid()\n",
    "plt.show()"
   ]
  },
  {
   "cell_type": "markdown",
   "id": "482054c3",
   "metadata": {},
   "source": [
    "## Step 5: Visualizing Vaccination Progress\n",
    "\n",
    "We now analyze vaccination trends:\n",
    "- Cumulative vaccinations over time\n",
    "- Comparison across selected countries"
   ]
  },
  {
   "cell_type": "code",
   "execution_count": null,
   "id": "e28d9d4e",
   "metadata": {},
   "outputs": [],
   "source": [
    "# Total vaccinations over time\n",
    "plt.figure(figsize=(12,6))\n",
    "for country in countries:\n",
    "    data = df_filtered[df_filtered['location'] == country]\n",
    "    plt.plot(data['date'], data['total_vaccinations'], label=country)\n",
    "plt.title('COVID-19 Total Vaccinations Over Time')\n",
    "plt.xlabel('Date')\n",
    "plt.ylabel('Total Vaccinations')\n",
    "plt.legend()\n",
    "plt.grid()\n",
    "plt.show()"
   ]
  },
  {
   "cell_type": "markdown",
   "id": "49e7ef3f",
   "metadata": {},
   "source": [
    "## Step 6: Choropleth Map\n",
    "\n",
    "We can visualize the global spread of COVID-19 using a choropleth map to show total cases or vaccination rates.\n",
    "\n",
    "We will use the most recent data for this visualization."
   ]
  },
  {
   "cell_type": "code",
   "execution_count": null,
   "id": "dfeda453",
   "metadata": {},
   "outputs": [],
   "source": [
    "import plotly.express as px\n",
    "\n",
    "latest_date = df['date'].max()\n",
    "latest_df = df[df['date'] == latest_date]\n",
    "\n",
    "fig = px.choropleth(latest_df,\n",
    "                    locations='iso_code',\n",
    "                    color='total_cases',\n",
    "                    hover_name='location',\n",
    "                    color_continuous_scale='Reds',\n",
    "                    title='Global COVID-19 Total Cases')\n",
    "fig.show()"
   ]
  },
  {
   "cell_type": "markdown",
   "id": "b993e986",
   "metadata": {},
   "source": [
    "## Step 7: Insights & Reporting\n",
    "\n",
    "Summarize the key findings from the data analysis and visualizations."
   ]
  },
  {
   "cell_type": "markdown",
   "id": "c4ba7836",
   "metadata": {},
   "source": [
    "- The United States has consistently led in total reported cases.\n",
    "- India experienced a major spike in 2021.\n",
    "- Kenya shows significantly fewer cases but also lower vaccination rates.\n",
    "- Death rates vary across countries and time, affected by healthcare capacity and vaccine availability.\n",
    "- Vaccination efforts ramped up globally by mid-2021, but disparities remain."
   ]
  }
 ],
 "metadata": {
  "kernelspec": {
   "display_name": ".venv",
   "language": "python",
   "name": "python3"
  },
  "language_info": {
   "codemirror_mode": {
    "name": "ipython",
    "version": 3
   },
   "file_extension": ".py",
   "mimetype": "text/x-python",
   "name": "python",
   "nbconvert_exporter": "python",
   "pygments_lexer": "ipython3",
   "version": "3.11.9"
  }
 },
 "nbformat": 4,
 "nbformat_minor": 5
}
